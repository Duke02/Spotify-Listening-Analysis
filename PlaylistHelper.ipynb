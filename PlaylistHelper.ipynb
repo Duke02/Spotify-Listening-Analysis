{
 "cells": [
  {
   "cell_type": "code",
   "execution_count": 1,
   "id": "6b5655ce",
   "metadata": {},
   "outputs": [],
   "source": [
    "import spotipy as sp\n",
    "from spotipy.oauth2 import SpotifyOAuth\n",
    "import json\n",
    "from utility import get_spotify_client, get_spotify_data, SPOTIFY_CREDENTIALS_PATH\n",
    "from typing import List"
   ]
  },
  {
   "cell_type": "code",
   "execution_count": 2,
   "id": "d38d9e31",
   "metadata": {},
   "outputs": [],
   "source": [
    "scopes = ['playlist-modify-public']"
   ]
  },
  {
   "cell_type": "code",
   "execution_count": 3,
   "id": "95137458",
   "metadata": {},
   "outputs": [
    {
     "name": "stdout",
     "output_type": "stream",
     "text": [
      "Make sure you don't log your spotify credentials! Use %%capture in Jupyter notebooks!\n"
     ]
    }
   ],
   "source": [
    "client = get_spotify_client()"
   ]
  },
  {
   "cell_type": "code",
   "execution_count": 4,
   "id": "1a98f4fd",
   "metadata": {},
   "outputs": [],
   "source": [
    "def get_spotify_oauth(scopes=[]):\n",
    "    with open(SPOTIFY_CREDENTIALS_PATH, 'r') as f:\n",
    "        creds_json = json.load(f)\n",
    "        print(creds_json)\n",
    "        oauth = SpotifyOAuth(client_id=creds_json['client_id'], \n",
    "                             client_secret=creds_json['client_secret'], \n",
    "                             redirect_uri=creds_json['redirect_url'],\n",
    "                             scope=','.join(scopes))\n",
    "        return sp.Spotify(auth_manager=oauth)\n",
    "        "
   ]
  },
  {
   "cell_type": "code",
   "execution_count": 5,
   "id": "850450ed",
   "metadata": {},
   "outputs": [],
   "source": [
    "%%capture\n",
    "client = get_spotify_oauth(scopes)"
   ]
  },
  {
   "cell_type": "code",
   "execution_count": 6,
   "id": "ef8319df",
   "metadata": {},
   "outputs": [],
   "source": [
    "def get_song_ids_of_playlist(id, client) -> List[str]:\n",
    "    playlist_info = client.playlist(id)\n",
    "    total_songs: int = playlist_info['tracks']['total']\n",
    "    offset = 0\n",
    "    limit = 100\n",
    "    output = []\n",
    "    while offset < total_songs:\n",
    "        output.extend([song['track']['id'] for song in client.playlist_items(id, limit=limit, offset=offset)['items']])\n",
    "        offset += limit\n",
    "    return output"
   ]
  },
  {
   "cell_type": "code",
   "execution_count": 7,
   "id": "1181abf8",
   "metadata": {},
   "outputs": [
    {
     "name": "stdout",
     "output_type": "stream",
     "text": [
      "Enter the URL you were redirected to: https://localhost:8080/?code=AQCq7A0BjEdnsiZuGDeqx_G76at-9yUYfbD-9h9MrrXU2yuVUqKYOa3HKP0RsC5Vwfw169w02cDxxjwRIINkMf7pZcyzjnH9h9aOYyaeuPtbbmmy64xNce5ac9G5zFgxB0IwByYuND_1YhtAwUoRLJE5JwFV-qg3iJDFksR4_zVu-mYo84Da_TnpO2AHt52dlm4\n"
     ]
    },
    {
     "data": {
      "text/plain": [
       "2801"
      ]
     },
     "execution_count": 7,
     "metadata": {},
     "output_type": "execute_result"
    }
   ],
   "source": [
    "songs = get_song_ids_of_playlist('7a2AztGCc3bjJUAFafrsBh', client)\n",
    "len(songs)"
   ]
  },
  {
   "cell_type": "code",
   "execution_count": null,
   "id": "a0d760f5",
   "metadata": {},
   "outputs": [],
   "source": []
  }
 ],
 "metadata": {
  "kernelspec": {
   "display_name": "Python 3",
   "language": "python",
   "name": "python3"
  },
  "language_info": {
   "codemirror_mode": {
    "name": "ipython",
    "version": 3
   },
   "file_extension": ".py",
   "mimetype": "text/x-python",
   "name": "python",
   "nbconvert_exporter": "python",
   "pygments_lexer": "ipython3",
   "version": "3.9.2"
  }
 },
 "nbformat": 4,
 "nbformat_minor": 5
}
