{
 "cells": [
  {
   "cell_type": "code",
   "execution_count": 1,
   "id": "fd988312",
   "metadata": {},
   "outputs": [],
   "source": [
    "import matplotlib\n",
    "import matplotlib.pyplot as plt\n",
    "import seaborn as sns\n",
    "import pandas as pd\n",
    "import numpy as np\n",
    "from utility import get_spotify_data, get_spotify_client\n",
    "import spotipy as sp\n",
    "import plotly.express as px"
   ]
  },
  {
   "cell_type": "markdown",
   "id": "e4b25876",
   "metadata": {},
   "source": [
    "- Get all artists \n",
    "- Remove duplicates\n",
    "- Call Spotify api to get related artists\n",
    "- Remove the ones that aren't in my artists\n",
    "- Connect each related artists to the base artist\n",
    "- Show a graph/web graph"
   ]
  },
  {
   "cell_type": "code",
   "execution_count": 2,
   "id": "72c60fca",
   "metadata": {},
   "outputs": [
    {
     "data": {
      "text/plain": [
       "[{'endTime': '2020-12-22 22:45',\n",
       "  'artistName': 'meganeko',\n",
       "  'trackName': 'Stasis',\n",
       "  'msPlayed': 226000},\n",
       " {'endTime': '2020-12-22 22:59',\n",
       "  'artistName': 'meganeko',\n",
       "  'trackName': 'Robot Language',\n",
       "  'msPlayed': 190008},\n",
       " {'endTime': '2020-12-22 23:05',\n",
       "  'artistName': 'meganeko',\n",
       "  'trackName': 'Robot Language',\n",
       "  'msPlayed': 8435}]"
      ]
     },
     "execution_count": 2,
     "metadata": {},
     "output_type": "execute_result"
    }
   ],
   "source": [
    "streaming_history = get_spotify_data('StreamingHistory')\n",
    "streaming_history[:3]"
   ]
  },
  {
   "cell_type": "code",
   "execution_count": 3,
   "id": "c29f1d4e",
   "metadata": {},
   "outputs": [
    {
     "data": {
      "text/html": [
       "<div>\n",
       "<style scoped>\n",
       "    .dataframe tbody tr th:only-of-type {\n",
       "        vertical-align: middle;\n",
       "    }\n",
       "\n",
       "    .dataframe tbody tr th {\n",
       "        vertical-align: top;\n",
       "    }\n",
       "\n",
       "    .dataframe thead th {\n",
       "        text-align: right;\n",
       "    }\n",
       "</style>\n",
       "<table border=\"1\" class=\"dataframe\">\n",
       "  <thead>\n",
       "    <tr style=\"text-align: right;\">\n",
       "      <th></th>\n",
       "      <th>endTime</th>\n",
       "      <th>artistName</th>\n",
       "      <th>trackName</th>\n",
       "      <th>msPlayed</th>\n",
       "    </tr>\n",
       "  </thead>\n",
       "  <tbody>\n",
       "    <tr>\n",
       "      <th>0</th>\n",
       "      <td>2020-12-22 22:45</td>\n",
       "      <td>meganeko</td>\n",
       "      <td>Stasis</td>\n",
       "      <td>226000</td>\n",
       "    </tr>\n",
       "    <tr>\n",
       "      <th>1</th>\n",
       "      <td>2020-12-22 22:59</td>\n",
       "      <td>meganeko</td>\n",
       "      <td>Robot Language</td>\n",
       "      <td>190008</td>\n",
       "    </tr>\n",
       "    <tr>\n",
       "      <th>2</th>\n",
       "      <td>2020-12-22 23:05</td>\n",
       "      <td>meganeko</td>\n",
       "      <td>Robot Language</td>\n",
       "      <td>8435</td>\n",
       "    </tr>\n",
       "    <tr>\n",
       "      <th>3</th>\n",
       "      <td>2020-12-22 23:06</td>\n",
       "      <td>meganeko</td>\n",
       "      <td>she speaks</td>\n",
       "      <td>57000</td>\n",
       "    </tr>\n",
       "    <tr>\n",
       "      <th>4</th>\n",
       "      <td>2020-12-22 23:10</td>\n",
       "      <td>meganeko</td>\n",
       "      <td>Super Gamer Girl 3D</td>\n",
       "      <td>289500</td>\n",
       "    </tr>\n",
       "  </tbody>\n",
       "</table>\n",
       "</div>"
      ],
      "text/plain": [
       "            endTime artistName            trackName  msPlayed\n",
       "0  2020-12-22 22:45   meganeko               Stasis    226000\n",
       "1  2020-12-22 22:59   meganeko       Robot Language    190008\n",
       "2  2020-12-22 23:05   meganeko       Robot Language      8435\n",
       "3  2020-12-22 23:06   meganeko           she speaks     57000\n",
       "4  2020-12-22 23:10   meganeko  Super Gamer Girl 3D    289500"
      ]
     },
     "execution_count": 3,
     "metadata": {},
     "output_type": "execute_result"
    }
   ],
   "source": [
    "df = pd.DataFrame.from_records(streaming_history)\n",
    "df.head()"
   ]
  },
  {
   "cell_type": "code",
   "execution_count": 4,
   "id": "2cef7e5f",
   "metadata": {},
   "outputs": [
    {
     "data": {
      "text/html": [
       "<div>\n",
       "<style scoped>\n",
       "    .dataframe tbody tr th:only-of-type {\n",
       "        vertical-align: middle;\n",
       "    }\n",
       "\n",
       "    .dataframe tbody tr th {\n",
       "        vertical-align: top;\n",
       "    }\n",
       "\n",
       "    .dataframe thead th {\n",
       "        text-align: right;\n",
       "    }\n",
       "</style>\n",
       "<table border=\"1\" class=\"dataframe\">\n",
       "  <thead>\n",
       "    <tr style=\"text-align: right;\">\n",
       "      <th></th>\n",
       "      <th>endTime</th>\n",
       "      <th>artistName</th>\n",
       "      <th>trackName</th>\n",
       "      <th>msPlayed</th>\n",
       "    </tr>\n",
       "  </thead>\n",
       "  <tbody>\n",
       "    <tr>\n",
       "      <th>67426</th>\n",
       "      <td>2019-12-16 00:21</td>\n",
       "      <td>Panic! At The Disco</td>\n",
       "      <td>Crazy = Genius</td>\n",
       "      <td>4940</td>\n",
       "    </tr>\n",
       "    <tr>\n",
       "      <th>67427</th>\n",
       "      <td>2020-03-07 18:13</td>\n",
       "      <td>Johann Sebastian Bach</td>\n",
       "      <td>Bach, J.S.: Brandenburg Concerto No. 5 in D Ma...</td>\n",
       "      <td>31018</td>\n",
       "    </tr>\n",
       "    <tr>\n",
       "      <th>67428</th>\n",
       "      <td>2020-03-10 21:28</td>\n",
       "      <td>Austin Wintory</td>\n",
       "      <td>Temptations</td>\n",
       "      <td>236307</td>\n",
       "    </tr>\n",
       "    <tr>\n",
       "      <th>67429</th>\n",
       "      <td>2020-03-11 00:03</td>\n",
       "      <td>Ace Waters</td>\n",
       "      <td>Nihilist (feat. ThunderScott)</td>\n",
       "      <td>88040</td>\n",
       "    </tr>\n",
       "    <tr>\n",
       "      <th>67430</th>\n",
       "      <td>2020-03-11 00:12</td>\n",
       "      <td>Ace Waters</td>\n",
       "      <td>Nihilist (feat. ThunderScott)</td>\n",
       "      <td>3241</td>\n",
       "    </tr>\n",
       "  </tbody>\n",
       "</table>\n",
       "</div>"
      ],
      "text/plain": [
       "                endTime             artistName  \\\n",
       "67426  2019-12-16 00:21    Panic! At The Disco   \n",
       "67427  2020-03-07 18:13  Johann Sebastian Bach   \n",
       "67428  2020-03-10 21:28         Austin Wintory   \n",
       "67429  2020-03-11 00:03             Ace Waters   \n",
       "67430  2020-03-11 00:12             Ace Waters   \n",
       "\n",
       "                                               trackName  msPlayed  \n",
       "67426                                     Crazy = Genius      4940  \n",
       "67427  Bach, J.S.: Brandenburg Concerto No. 5 in D Ma...     31018  \n",
       "67428                                        Temptations    236307  \n",
       "67429                      Nihilist (feat. ThunderScott)     88040  \n",
       "67430                      Nihilist (feat. ThunderScott)      3241  "
      ]
     },
     "execution_count": 4,
     "metadata": {},
     "output_type": "execute_result"
    }
   ],
   "source": [
    "df.sort_values('endTime').head()"
   ]
  },
  {
   "cell_type": "code",
   "execution_count": 5,
   "id": "299fa33c",
   "metadata": {},
   "outputs": [
    {
     "data": {
      "text/html": [
       "<div>\n",
       "<style scoped>\n",
       "    .dataframe tbody tr th:only-of-type {\n",
       "        vertical-align: middle;\n",
       "    }\n",
       "\n",
       "    .dataframe tbody tr th {\n",
       "        vertical-align: top;\n",
       "    }\n",
       "\n",
       "    .dataframe thead th {\n",
       "        text-align: right;\n",
       "    }\n",
       "</style>\n",
       "<table border=\"1\" class=\"dataframe\">\n",
       "  <thead>\n",
       "    <tr style=\"text-align: right;\">\n",
       "      <th></th>\n",
       "      <th>msPlayed</th>\n",
       "      <th>artist</th>\n",
       "      <th>hrsPlayed</th>\n",
       "    </tr>\n",
       "    <tr>\n",
       "      <th>artistName</th>\n",
       "      <th></th>\n",
       "      <th></th>\n",
       "      <th></th>\n",
       "    </tr>\n",
       "  </thead>\n",
       "  <tbody>\n",
       "    <tr>\n",
       "      <th>\"Weird Al\" Yankovic</th>\n",
       "      <td>57255270</td>\n",
       "      <td>\"Weird Al\" Yankovic</td>\n",
       "      <td>15.904242</td>\n",
       "    </tr>\n",
       "    <tr>\n",
       "      <th>10 Years</th>\n",
       "      <td>18156</td>\n",
       "      <td>10 Years</td>\n",
       "      <td>0.005043</td>\n",
       "    </tr>\n",
       "    <tr>\n",
       "      <th>100 gecs</th>\n",
       "      <td>0</td>\n",
       "      <td>100 gecs</td>\n",
       "      <td>0.000000</td>\n",
       "    </tr>\n",
       "    <tr>\n",
       "      <th>1000say</th>\n",
       "      <td>37</td>\n",
       "      <td>1000say</td>\n",
       "      <td>0.000010</td>\n",
       "    </tr>\n",
       "    <tr>\n",
       "      <th>11 Acorn Lane</th>\n",
       "      <td>11819316</td>\n",
       "      <td>11 Acorn Lane</td>\n",
       "      <td>3.283143</td>\n",
       "    </tr>\n",
       "    <tr>\n",
       "      <th>...</th>\n",
       "      <td>...</td>\n",
       "      <td>...</td>\n",
       "      <td>...</td>\n",
       "    </tr>\n",
       "    <tr>\n",
       "      <th>zabutom</th>\n",
       "      <td>1316335</td>\n",
       "      <td>zabutom</td>\n",
       "      <td>0.365649</td>\n",
       "    </tr>\n",
       "    <tr>\n",
       "      <th>zebrahead</th>\n",
       "      <td>12637</td>\n",
       "      <td>zebrahead</td>\n",
       "      <td>0.003510</td>\n",
       "    </tr>\n",
       "    <tr>\n",
       "      <th>zircon</th>\n",
       "      <td>3463824</td>\n",
       "      <td>zircon</td>\n",
       "      <td>0.962173</td>\n",
       "    </tr>\n",
       "    <tr>\n",
       "      <th>ÆSTRAL</th>\n",
       "      <td>274286</td>\n",
       "      <td>ÆSTRAL</td>\n",
       "      <td>0.076191</td>\n",
       "    </tr>\n",
       "    <tr>\n",
       "      <th>Одно Целое</th>\n",
       "      <td>560746</td>\n",
       "      <td>Одно Целое</td>\n",
       "      <td>0.155763</td>\n",
       "    </tr>\n",
       "  </tbody>\n",
       "</table>\n",
       "<p>1778 rows × 3 columns</p>\n",
       "</div>"
      ],
      "text/plain": [
       "                     msPlayed               artist  hrsPlayed\n",
       "artistName                                                   \n",
       "\"Weird Al\" Yankovic  57255270  \"Weird Al\" Yankovic  15.904242\n",
       "10 Years                18156             10 Years   0.005043\n",
       "100 gecs                    0             100 gecs   0.000000\n",
       "1000say                    37              1000say   0.000010\n",
       "11 Acorn Lane        11819316        11 Acorn Lane   3.283143\n",
       "...                       ...                  ...        ...\n",
       "zabutom               1316335              zabutom   0.365649\n",
       "zebrahead               12637            zebrahead   0.003510\n",
       "zircon                3463824               zircon   0.962173\n",
       "ÆSTRAL                 274286               ÆSTRAL   0.076191\n",
       "Одно Целое             560746           Одно Целое   0.155763\n",
       "\n",
       "[1778 rows x 3 columns]"
      ]
     },
     "execution_count": 5,
     "metadata": {},
     "output_type": "execute_result"
    }
   ],
   "source": [
    "artist_df = df.groupby('artistName').sum('msPlayed')\n",
    "artist_df['artist'] = artist_df.index\n",
    "artist_df['hrsPlayed'] = artist_df['msPlayed'] / 60000 / 60\n",
    "artist_df"
   ]
  },
  {
   "cell_type": "code",
   "execution_count": 6,
   "id": "ab5633ee",
   "metadata": {},
   "outputs": [
    {
     "data": {
      "text/plain": [
       "[Text(0.5, 0, 'Hours Played')]"
      ]
     },
     "execution_count": 6,
     "metadata": {},
     "output_type": "execute_result"
    },
    {
     "data": {
      "image/png": "[encoded data removed]",
      "text/plain": [
       "<Figure size 432x288 with 1 Axes>"
      ]
     },
     "metadata": {
      "needs_background": "light"
     },
     "output_type": "display_data"
    }
   ],
   "source": [
    "top_n_artists = 20\n",
    "plotted_artist_df = artist_df.sort_values(by='hrsPlayed', ascending=False)[:top_n_artists]\n",
    "ax = sns.barplot(data=plotted_artist_df, x='hrsPlayed', y='artist', orient='h')\n",
    "ax.set(title=f'Top {top_n_artists} Artists')\n",
    "ax.set(ylabel='Artist')\n",
    "ax.set(xlabel='Hours Played')"
   ]
  },
  {
   "cell_type": "code",
   "execution_count": 7,
   "id": "d49bf9e0",
   "metadata": {},
   "outputs": [
    {
     "ename": "SpotifyOauthError",
     "evalue": "error: invalid_client, error_description: Invalid client",
     "output_type": "error",
     "traceback": [
      "\u001b[0;31m---------------------------------------------------------------------------\u001b[0m",
      "\u001b[0;31mSpotifyOauthError\u001b[0m                         Traceback (most recent call last)",
      "\u001b[0;32m<ipython-input-7-eb774c4f3757>\u001b[0m in \u001b[0;36m<module>\u001b[0;34m\u001b[0m\n\u001b[0;32m----> 1\u001b[0;31m \u001b[0msp\u001b[0m \u001b[0;34m=\u001b[0m \u001b[0mget_spotify_client\u001b[0m\u001b[0;34m(\u001b[0m\u001b[0;34m)\u001b[0m\u001b[0;34m\u001b[0m\u001b[0;34m\u001b[0m\u001b[0m\n\u001b[0m",
      "\u001b[0;32m~/PycharmProjects/Spotify-Listening-Analysis/utility.py\u001b[0m in \u001b[0;36mget_spotify_client\u001b[0;34m()\u001b[0m\n\u001b[1;32m     22\u001b[0m         \u001b[0mcreds_json\u001b[0m \u001b[0;34m=\u001b[0m \u001b[0mjson\u001b[0m\u001b[0;34m.\u001b[0m\u001b[0mload\u001b[0m\u001b[0;34m(\u001b[0m\u001b[0mf\u001b[0m\u001b[0;34m)\u001b[0m\u001b[0;34m\u001b[0m\u001b[0;34m\u001b[0m\u001b[0m\n\u001b[1;32m     23\u001b[0m         \u001b[0mcreds\u001b[0m \u001b[0;34m=\u001b[0m \u001b[0mSpotifyClientCredentials\u001b[0m\u001b[0;34m(\u001b[0m\u001b[0mclient_id\u001b[0m\u001b[0;34m=\u001b[0m\u001b[0mcreds_json\u001b[0m\u001b[0;34m[\u001b[0m\u001b[0;34m'client_id'\u001b[0m\u001b[0;34m]\u001b[0m\u001b[0;34m,\u001b[0m \u001b[0mclient_secret\u001b[0m\u001b[0;34m=\u001b[0m\u001b[0mcreds_json\u001b[0m\u001b[0;34m[\u001b[0m\u001b[0;34m'client_secret'\u001b[0m\u001b[0;34m]\u001b[0m\u001b[0;34m)\u001b[0m\u001b[0;34m\u001b[0m\u001b[0;34m\u001b[0m\u001b[0m\n\u001b[0;32m---> 24\u001b[0;31m         \u001b[0mtoken\u001b[0m \u001b[0;34m=\u001b[0m \u001b[0mcreds\u001b[0m\u001b[0;34m.\u001b[0m\u001b[0mget_access_token\u001b[0m\u001b[0;34m(\u001b[0m\u001b[0;34m)\u001b[0m\u001b[0;34m\u001b[0m\u001b[0;34m\u001b[0m\u001b[0m\n\u001b[0m\u001b[1;32m     25\u001b[0m         \u001b[0;32mreturn\u001b[0m \u001b[0msp\u001b[0m\u001b[0;34m.\u001b[0m\u001b[0mSpotify\u001b[0m\u001b[0;34m(\u001b[0m\u001b[0mauth\u001b[0m\u001b[0;34m=\u001b[0m\u001b[0mtoken\u001b[0m\u001b[0;34m)\u001b[0m\u001b[0;34m\u001b[0m\u001b[0;34m\u001b[0m\u001b[0m\n\u001b[1;32m     26\u001b[0m \u001b[0;34m\u001b[0m\u001b[0m\n",
      "\u001b[0;32m~/miniconda3/envs/Spotify-Listening-Analysis/lib/python3.9/site-packages/spotipy/oauth2.py\u001b[0m in \u001b[0;36mget_access_token\u001b[0;34m(self, as_dict)\u001b[0m\n\u001b[1;32m    180\u001b[0m             \u001b[0;32mreturn\u001b[0m \u001b[0mself\u001b[0m\u001b[0;34m.\u001b[0m\u001b[0mtoken_info\u001b[0m \u001b[0;32mif\u001b[0m \u001b[0mas_dict\u001b[0m \u001b[0;32melse\u001b[0m \u001b[0mself\u001b[0m\u001b[0;34m.\u001b[0m\u001b[0mtoken_info\u001b[0m\u001b[0;34m[\u001b[0m\u001b[0;34m\"access_token\"\u001b[0m\u001b[0;34m]\u001b[0m\u001b[0;34m\u001b[0m\u001b[0;34m\u001b[0m\u001b[0m\n\u001b[1;32m    181\u001b[0m \u001b[0;34m\u001b[0m\u001b[0m\n\u001b[0;32m--> 182\u001b[0;31m         \u001b[0mtoken_info\u001b[0m \u001b[0;34m=\u001b[0m \u001b[0mself\u001b[0m\u001b[0;34m.\u001b[0m\u001b[0m_request_access_token\u001b[0m\u001b[0;34m(\u001b[0m\u001b[0;34m)\u001b[0m\u001b[0;34m\u001b[0m\u001b[0;34m\u001b[0m\u001b[0m\n\u001b[0m\u001b[1;32m    183\u001b[0m         \u001b[0mtoken_info\u001b[0m \u001b[0;34m=\u001b[0m \u001b[0mself\u001b[0m\u001b[0;34m.\u001b[0m\u001b[0m_add_custom_values_to_token_info\u001b[0m\u001b[0;34m(\u001b[0m\u001b[0mtoken_info\u001b[0m\u001b[0;34m)\u001b[0m\u001b[0;34m\u001b[0m\u001b[0;34m\u001b[0m\u001b[0m\n\u001b[1;32m    184\u001b[0m         \u001b[0mself\u001b[0m\u001b[0;34m.\u001b[0m\u001b[0mtoken_info\u001b[0m \u001b[0;34m=\u001b[0m \u001b[0mtoken_info\u001b[0m\u001b[0;34m\u001b[0m\u001b[0;34m\u001b[0m\u001b[0m\n",
      "\u001b[0;32m~/miniconda3/envs/Spotify-Listening-Analysis/lib/python3.9/site-packages/spotipy/oauth2.py\u001b[0m in \u001b[0;36m_request_access_token\u001b[0;34m(self)\u001b[0m\n\u001b[1;32m    208\u001b[0m         \u001b[0;32mif\u001b[0m \u001b[0mresponse\u001b[0m\u001b[0;34m.\u001b[0m\u001b[0mstatus_code\u001b[0m \u001b[0;34m!=\u001b[0m \u001b[0;36m200\u001b[0m\u001b[0;34m:\u001b[0m\u001b[0;34m\u001b[0m\u001b[0;34m\u001b[0m\u001b[0m\n\u001b[1;32m    209\u001b[0m             \u001b[0merror_payload\u001b[0m \u001b[0;34m=\u001b[0m \u001b[0mresponse\u001b[0m\u001b[0;34m.\u001b[0m\u001b[0mjson\u001b[0m\u001b[0;34m(\u001b[0m\u001b[0;34m)\u001b[0m\u001b[0;34m\u001b[0m\u001b[0;34m\u001b[0m\u001b[0m\n\u001b[0;32m--> 210\u001b[0;31m             raise SpotifyOauthError(\n\u001b[0m\u001b[1;32m    211\u001b[0m                 'error: {0}, error_description: {1}'.format(\n\u001b[1;32m    212\u001b[0m                     error_payload['error'], error_payload['error_description']),\n",
      "\u001b[0;31mSpotifyOauthError\u001b[0m: error: invalid_client, error_description: Invalid client"
     ]
    }
   ],
   "source": [
    "%%capture\n",
    "sp = get_spotify_client()"
   ]
  },
  {
   "cell_type": "code",
   "execution_count": 8,
   "id": "616b7fd3",
   "metadata": {},
   "outputs": [
    {
     "ename": "AttributeError",
     "evalue": "module 'spotipy' has no attribute 'search'",
     "output_type": "error",
     "traceback": [
      "\u001b[0;31m---------------------------------------------------------------------------\u001b[0m",
      "\u001b[0;31mAttributeError\u001b[0m                            Traceback (most recent call last)",
      "\u001b[0;32m<ipython-input-8-1b7ed0cd9bc4>\u001b[0m in \u001b[0;36m<module>\u001b[0;34m\u001b[0m\n\u001b[1;32m      1\u001b[0m \u001b[0mn_artists\u001b[0m\u001b[0;34m:\u001b[0m \u001b[0mint\u001b[0m \u001b[0;34m=\u001b[0m \u001b[0;36m100\u001b[0m\u001b[0;34m\u001b[0m\u001b[0;34m\u001b[0m\u001b[0m\n\u001b[1;32m      2\u001b[0m \u001b[0mlimited_artists\u001b[0m \u001b[0;34m=\u001b[0m \u001b[0martist_df\u001b[0m\u001b[0;34m.\u001b[0m\u001b[0msort_values\u001b[0m\u001b[0;34m(\u001b[0m\u001b[0mby\u001b[0m\u001b[0;34m=\u001b[0m\u001b[0;34m'hrsPlayed'\u001b[0m\u001b[0;34m,\u001b[0m \u001b[0mascending\u001b[0m\u001b[0;34m=\u001b[0m\u001b[0;32mFalse\u001b[0m\u001b[0;34m)\u001b[0m\u001b[0;34m[\u001b[0m\u001b[0;34m:\u001b[0m\u001b[0mn_artists\u001b[0m\u001b[0;34m]\u001b[0m\u001b[0;34m\u001b[0m\u001b[0;34m\u001b[0m\u001b[0m\n\u001b[0;32m----> 3\u001b[0;31m \u001b[0martists\u001b[0m \u001b[0;34m=\u001b[0m \u001b[0;34m[\u001b[0m\u001b[0msp\u001b[0m\u001b[0;34m.\u001b[0m\u001b[0msearch\u001b[0m\u001b[0;34m(\u001b[0m\u001b[0mq\u001b[0m\u001b[0;34m=\u001b[0m\u001b[0martist\u001b[0m\u001b[0;34m,\u001b[0m \u001b[0mlimit\u001b[0m\u001b[0;34m=\u001b[0m\u001b[0;36m1\u001b[0m\u001b[0;34m,\u001b[0m \u001b[0mtype\u001b[0m\u001b[0;34m=\u001b[0m\u001b[0;34m'artist'\u001b[0m\u001b[0;34m)\u001b[0m\u001b[0;34m[\u001b[0m\u001b[0;34m'artists'\u001b[0m\u001b[0;34m]\u001b[0m\u001b[0;34m[\u001b[0m\u001b[0;34m'items'\u001b[0m\u001b[0;34m]\u001b[0m\u001b[0;34m[\u001b[0m\u001b[0;36m0\u001b[0m\u001b[0;34m]\u001b[0m \u001b[0;32mfor\u001b[0m \u001b[0martist\u001b[0m \u001b[0;32min\u001b[0m \u001b[0mlimited_artists\u001b[0m\u001b[0;34m[\u001b[0m\u001b[0;34m'artist'\u001b[0m\u001b[0;34m]\u001b[0m\u001b[0;34m]\u001b[0m\u001b[0;34m\u001b[0m\u001b[0;34m\u001b[0m\u001b[0m\n\u001b[0m",
      "\u001b[0;32m<ipython-input-8-1b7ed0cd9bc4>\u001b[0m in \u001b[0;36m<listcomp>\u001b[0;34m(.0)\u001b[0m\n\u001b[1;32m      1\u001b[0m \u001b[0mn_artists\u001b[0m\u001b[0;34m:\u001b[0m \u001b[0mint\u001b[0m \u001b[0;34m=\u001b[0m \u001b[0;36m100\u001b[0m\u001b[0;34m\u001b[0m\u001b[0;34m\u001b[0m\u001b[0m\n\u001b[1;32m      2\u001b[0m \u001b[0mlimited_artists\u001b[0m \u001b[0;34m=\u001b[0m \u001b[0martist_df\u001b[0m\u001b[0;34m.\u001b[0m\u001b[0msort_values\u001b[0m\u001b[0;34m(\u001b[0m\u001b[0mby\u001b[0m\u001b[0;34m=\u001b[0m\u001b[0;34m'hrsPlayed'\u001b[0m\u001b[0;34m,\u001b[0m \u001b[0mascending\u001b[0m\u001b[0;34m=\u001b[0m\u001b[0;32mFalse\u001b[0m\u001b[0;34m)\u001b[0m\u001b[0;34m[\u001b[0m\u001b[0;34m:\u001b[0m\u001b[0mn_artists\u001b[0m\u001b[0;34m]\u001b[0m\u001b[0;34m\u001b[0m\u001b[0;34m\u001b[0m\u001b[0m\n\u001b[0;32m----> 3\u001b[0;31m \u001b[0martists\u001b[0m \u001b[0;34m=\u001b[0m \u001b[0;34m[\u001b[0m\u001b[0msp\u001b[0m\u001b[0;34m.\u001b[0m\u001b[0msearch\u001b[0m\u001b[0;34m(\u001b[0m\u001b[0mq\u001b[0m\u001b[0;34m=\u001b[0m\u001b[0martist\u001b[0m\u001b[0;34m,\u001b[0m \u001b[0mlimit\u001b[0m\u001b[0;34m=\u001b[0m\u001b[0;36m1\u001b[0m\u001b[0;34m,\u001b[0m \u001b[0mtype\u001b[0m\u001b[0;34m=\u001b[0m\u001b[0;34m'artist'\u001b[0m\u001b[0;34m)\u001b[0m\u001b[0;34m[\u001b[0m\u001b[0;34m'artists'\u001b[0m\u001b[0;34m]\u001b[0m\u001b[0;34m[\u001b[0m\u001b[0;34m'items'\u001b[0m\u001b[0;34m]\u001b[0m\u001b[0;34m[\u001b[0m\u001b[0;36m0\u001b[0m\u001b[0;34m]\u001b[0m \u001b[0;32mfor\u001b[0m \u001b[0martist\u001b[0m \u001b[0;32min\u001b[0m \u001b[0mlimited_artists\u001b[0m\u001b[0;34m[\u001b[0m\u001b[0;34m'artist'\u001b[0m\u001b[0;34m]\u001b[0m\u001b[0;34m]\u001b[0m\u001b[0;34m\u001b[0m\u001b[0;34m\u001b[0m\u001b[0m\n\u001b[0m",
      "\u001b[0;31mAttributeError\u001b[0m: module 'spotipy' has no attribute 'search'"
     ]
    }
   ],
   "source": [
    "n_artists: int = 100\n",
    "limited_artists = artist_df.sort_values(by='hrsPlayed', ascending=False)[:n_artists]\n",
    "artists = [sp.search(q=artist, limit=1, type='artist')['artists']['items'][0] for artist in limited_artists['artist']]"
   ]
  },
  {
   "cell_type": "code",
   "execution_count": null,
   "id": "55747ce7",
   "metadata": {},
   "outputs": [],
   "source": [
    "artists_big_df_raw = pd.DataFrame.from_records(artists, index='id', exclude=['external_urls', 'followers', 'href', 'images', 'type'])\n",
    "artists_big_df_raw['id'] = artists_big_df_raw.index\n",
    "artists_big_df = artists_big_df_raw.explode('genres').drop_duplicates()\n",
    "artists_big_df.head()"
   ]
  },
  {
   "cell_type": "code",
   "execution_count": null,
   "id": "9ab16e98",
   "metadata": {},
   "outputs": [],
   "source": [
    "artists_big_df[artists_big_df['genres'].str.contains('rap', na=False)][['name','genres']].drop_duplicates()"
   ]
  },
  {
   "cell_type": "code",
   "execution_count": null,
   "id": "5e0757e2",
   "metadata": {},
   "outputs": [],
   "source": [
    "artists_big_df[['name','genres']].drop_duplicates('name').to_csv('./yeet.csv')"
   ]
  },
  {
   "cell_type": "code",
   "execution_count": null,
   "id": "58233f99",
   "metadata": {},
   "outputs": [],
   "source": [
    "artists_big_df['genres'].unique()"
   ]
  },
  {
   "cell_type": "code",
   "execution_count": null,
   "id": "c7ebcd5e",
   "metadata": {},
   "outputs": [],
   "source": [
    "genres_df = artists_big_df.groupby('genres').count().sort_values(by='id', ascending=False)\n",
    "genres_df['genre'] = genres_df.index\n",
    "genres_df.head()"
   ]
  },
  {
   "cell_type": "code",
   "execution_count": null,
   "id": "2ccb0c41",
   "metadata": {},
   "outputs": [],
   "source": [
    "plotted_genres = genres_df[genres_df['id'] >= 5]\n",
    "plotted_genres.shape"
   ]
  },
  {
   "cell_type": "code",
   "execution_count": null,
   "id": "f3fdf9db",
   "metadata": {},
   "outputs": [],
   "source": [
    "ax = sns.barplot(data=plotted_genres, x='id', y='genre', orient='h')\n",
    "ax.set(title='Genres with at least 5 artists')\n",
    "ax.set(xlabel='# of Artists')\n",
    "ax.set(ylabel='Genre')"
   ]
  },
  {
   "cell_type": "code",
   "execution_count": null,
   "id": "a64d0c2e",
   "metadata": {},
   "outputs": [],
   "source": [
    "sns.barplot(data=genres_df[genres_df['id'] == 1][20:45], x='id', y='genre', orient='h')"
   ]
  },
  {
   "cell_type": "code",
   "execution_count": null,
   "id": "558fd227",
   "metadata": {},
   "outputs": [],
   "source": [
    "artists_big_df_raw.head()"
   ]
  },
  {
   "cell_type": "code",
   "execution_count": null,
   "id": "c33eccfd",
   "metadata": {},
   "outputs": [],
   "source": [
    "artist_df.head()"
   ]
  },
  {
   "cell_type": "code",
   "execution_count": null,
   "id": "1c6f72e1",
   "metadata": {},
   "outputs": [],
   "source": [
    "artist_df.shape, artists_big_df_raw.shape"
   ]
  },
  {
   "cell_type": "code",
   "execution_count": null,
   "id": "596c3c20",
   "metadata": {},
   "outputs": [],
   "source": [
    "values = {}\n",
    "for artist_row in artists_big_df_raw.values:\n",
    "    other_row = artist_df[artist_df['artist'] == artist_row[1]]\n",
    "    values[artist_row[1]] = (artist_row, other_row)\n",
    "pd.DataFrame.from_records(values).head()"
   ]
  },
  {
   "cell_type": "code",
   "execution_count": null,
   "id": "8d153884",
   "metadata": {},
   "outputs": [],
   "source": [
    "artists_joined_df = artists_big_df_raw.join(artist_df, on=['name', 'artist'])\n",
    "# artists_big_df['hrsPlayed'] = [artist_df[artist_df['artist'] == artist]['hrsPlayed'] for artist in artists_big_df['name']]\n",
    "artists_joined_df.head()"
   ]
  },
  {
   "cell_type": "code",
   "execution_count": null,
   "id": "fcf80bd6",
   "metadata": {},
   "outputs": [],
   "source": []
  }
 ],
 "metadata": {
  "kernelspec": {
   "display_name": "Python 3",
   "language": "python",
   "name": "python3"
  },
  "language_info": {
   "codemirror_mode": {
    "name": "ipython",
    "version": 3
   },
   "file_extension": ".py",
   "mimetype": "text/x-python",
   "name": "python",
   "nbconvert_exporter": "python",
   "pygments_lexer": "ipython3",
   "version": "3.9.2"
  }
 },
 "nbformat": 4,
 "nbformat_minor": 5
}
