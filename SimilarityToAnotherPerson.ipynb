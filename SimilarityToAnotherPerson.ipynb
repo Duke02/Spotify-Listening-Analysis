{
 "cells": [
  {
   "cell_type": "code",
   "execution_count": 1,
   "id": "743107ea",
   "metadata": {},
   "outputs": [],
   "source": [
    "import seaborn as sns\n",
    "import numpy as np\n",
    "import pandas as pd\n",
    "import matplotlib.pyplot as plt\n",
    "import spotipy"
   ]
  },
  {
   "cell_type": "code",
   "execution_count": 2,
   "id": "8ae6ed4a",
   "metadata": {},
   "outputs": [],
   "source": [
    "from utility import get_spotify_client, get_spotify_oauth"
   ]
  },
  {
   "cell_type": "code",
   "execution_count": 4,
   "id": "02de6966",
   "metadata": {},
   "outputs": [],
   "source": [
    "%%capture\n",
    "sp = get_spotify_oauth()"
   ]
  },
  {
   "cell_type": "code",
   "execution_count": null,
   "id": "fe995804",
   "metadata": {},
   "outputs": [],
   "source": [
    "with open('similarity')"
   ]
  }
 ],
 "metadata": {
  "kernelspec": {
   "display_name": "Python 3",
   "language": "python",
   "name": "python3"
  },
  "language_info": {
   "codemirror_mode": {
    "name": "ipython",
    "version": 3
   },
   "file_extension": ".py",
   "mimetype": "text/x-python",
   "name": "python",
   "nbconvert_exporter": "python",
   "pygments_lexer": "ipython3",
   "version": "3.9.2"
  }
 },
 "nbformat": 4,
 "nbformat_minor": 5
}
